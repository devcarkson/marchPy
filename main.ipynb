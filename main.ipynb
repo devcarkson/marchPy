{
 "cells": [
  {
   "cell_type": "markdown",
   "metadata": {},
   "source": [
    "## Variables"
   ]
  },
  {
   "cell_type": "code",
   "execution_count": 9,
   "metadata": {},
   "outputs": [
    {
     "name": "stdout",
     "output_type": "stream",
     "text": [
      "Carkso\n"
     ]
    }
   ],
   "source": [
    "name = \"Carkson\"\n",
    "print(name)"
   ]
  },
  {
   "cell_type": "code",
   "execution_count": 12,
   "metadata": {},
   "outputs": [
    {
     "name": "stdout",
     "output_type": "stream",
     "text": [
      "Hello, World\n"
     ]
    }
   ],
   "source": [
    "print(\"Hello, World\")"
   ]
  },
  {
   "cell_type": "code",
   "execution_count": 11,
   "metadata": {},
   "outputs": [
    {
     "name": "stdout",
     "output_type": "stream",
     "text": [
      "Hello, World\n"
     ]
    }
   ],
   "source": [
    "Greetings = \"Hello, World\"\n",
    "print(Greetings)"
   ]
  },
  {
   "cell_type": "code",
   "execution_count": 13,
   "metadata": {},
   "outputs": [
    {
     "name": "stdout",
     "output_type": "stream",
     "text": [
      "this is a day to learn python\n"
     ]
    }
   ],
   "source": [
    "py = \"this is a day to learn python\"\n",
    "print(py)"
   ]
  },
  {
   "cell_type": "code",
   "execution_count": 15,
   "metadata": {},
   "outputs": [
    {
     "name": "stdout",
     "output_type": "stream",
     "text": [
      "it's a day to python\n"
     ]
    }
   ],
   "source": [
    "py = \"it's a day to python\"\n",
    "print(py)"
   ]
  },
  {
   "cell_type": "code",
   "execution_count": 16,
   "metadata": {},
   "outputs": [
    {
     "name": "stdout",
     "output_type": "stream",
     "text": [
      "it's a day to learn python\n"
     ]
    }
   ],
   "source": [
    "py = 'it\\'s a day to learn python'\n",
    "print(py)"
   ]
  },
  {
   "cell_type": "code",
   "execution_count": null,
   "metadata": {},
   "outputs": [],
   "source": [
    "number = 30\n",
    "name = \"Emma\""
   ]
  },
  {
   "cell_type": "code",
   "execution_count": 2,
   "metadata": {},
   "outputs": [
    {
     "name": "stdout",
     "output_type": "stream",
     "text": [
      "6\n"
     ]
    }
   ],
   "source": [
    "x = 6\n",
    "print(x)"
   ]
  },
  {
   "cell_type": "code",
   "execution_count": 3,
   "metadata": {},
   "outputs": [
    {
     "name": "stdout",
     "output_type": "stream",
     "text": [
      "16\n"
     ]
    }
   ],
   "source": [
    "y = x + 10\n",
    "print(y) # print statement"
   ]
  },
  {
   "cell_type": "code",
   "execution_count": 4,
   "metadata": {},
   "outputs": [
    {
     "name": "stdout",
     "output_type": "stream",
     "text": [
      "Carkson\n"
     ]
    }
   ],
   "source": [
    "print(name )"
   ]
  },
  {
   "cell_type": "code",
   "execution_count": 19,
   "metadata": {},
   "outputs": [],
   "source": [
    "name = \"\"\n",
    "age = \"\"\n",
    "gender = \"\"\n",
    "occupation = \"\""
   ]
  },
  {
   "cell_type": "code",
   "execution_count": 20,
   "metadata": {},
   "outputs": [
    {
     "ename": "SyntaxError",
     "evalue": "unterminated string literal (detected at line 1) (1246363557.py, line 1)",
     "output_type": "error",
     "traceback": [
      "\u001b[1;36m  Cell \u001b[1;32mIn[20], line 1\u001b[1;36m\u001b[0m\n\u001b[1;33m    error = \"micheal and lucius\u001b[0m\n\u001b[1;37m            ^\u001b[0m\n\u001b[1;31mSyntaxError\u001b[0m\u001b[1;31m:\u001b[0m unterminated string literal (detected at line 1)\n"
     ]
    }
   ],
   "source": [
    "error = \"micheal and lucius\n",
    "print(error)"
   ]
  },
  {
   "cell_type": "code",
   "execution_count": 21,
   "metadata": {},
   "outputs": [
    {
     "ename": "NameError",
     "evalue": "name 'primt' is not defined",
     "output_type": "error",
     "traceback": [
      "\u001b[1;31m---------------------------------------------------------------------------\u001b[0m",
      "\u001b[1;31mNameError\u001b[0m                                 Traceback (most recent call last)",
      "Cell \u001b[1;32mIn[21], line 2\u001b[0m\n\u001b[0;32m      1\u001b[0m error1 \u001b[38;5;241m=\u001b[39m \u001b[38;5;124m\"\u001b[39m\u001b[38;5;124mfrederick and emma\u001b[39m\u001b[38;5;124m\"\u001b[39m\n\u001b[1;32m----> 2\u001b[0m \u001b[43mprimt\u001b[49m(error1)\n",
      "\u001b[1;31mNameError\u001b[0m: name 'primt' is not defined"
     ]
    }
   ],
   "source": [
    "error1 = \"frederick and emma\"\n",
    "primt(error1)"
   ]
  },
  {
   "cell_type": "markdown",
   "metadata": {},
   "source": [
    "## variables "
   ]
  },
  {
   "cell_type": "code",
   "execution_count": 26,
   "metadata": {},
   "outputs": [
    {
     "name": "stdout",
     "output_type": "stream",
     "text": [
      "emma\n"
     ]
    }
   ],
   "source": [
    "_name = \"emma\"\n",
    "print(_name)"
   ]
  },
  {
   "cell_type": "code",
   "execution_count": 27,
   "metadata": {},
   "outputs": [
    {
     "name": "stdout",
     "output_type": "stream",
     "text": [
      "lucius\n"
     ]
    }
   ],
   "source": [
    "_name = \"lucius\"\n",
    "print(_name)"
   ]
  },
  {
   "cell_type": "code",
   "execution_count": 28,
   "metadata": {},
   "outputs": [
    {
     "name": "stdout",
     "output_type": "stream",
     "text": [
      "carkson\n"
     ]
    }
   ],
   "source": [
    "NAME = \"carkson\"\n",
    "print(NAME)"
   ]
  },
  {
   "cell_type": "code",
   "execution_count": 29,
   "metadata": {},
   "outputs": [
    {
     "name": "stdout",
     "output_type": "stream",
     "text": [
      "David\n"
     ]
    }
   ],
   "source": [
    "NAME = \"David\"\n",
    "print(NAME)"
   ]
  },
  {
   "cell_type": "markdown",
   "metadata": {},
   "source": [
    "## Assignment"
   ]
  },
  {
   "cell_type": "markdown",
   "metadata": {},
   "source": [
    "write a prgram to intriduce yourself using variables and print them out"
   ]
  },
  {
   "cell_type": "markdown",
   "metadata": {},
   "source": [
    "## Arithmetic Operators "
   ]
  },
  {
   "cell_type": "code",
   "execution_count": 4,
   "metadata": {},
   "outputs": [
    {
     "name": "stdout",
     "output_type": "stream",
     "text": [
      "60\n"
     ]
    }
   ],
   "source": [
    "# plus (+)\n",
    "\n",
    "num1 = 20\n",
    "num2 = 40\n",
    "\n",
    "result = num1 + num2 \n",
    "print(result)"
   ]
  },
  {
   "cell_type": "code",
   "execution_count": 5,
   "metadata": {},
   "outputs": [
    {
     "name": "stdout",
     "output_type": "stream",
     "text": [
      "20\n"
     ]
    }
   ],
   "source": [
    "result2 = num2 - num1 \n",
    "print(result2)"
   ]
  },
  {
   "cell_type": "code",
   "execution_count": 6,
   "metadata": {},
   "outputs": [
    {
     "name": "stdout",
     "output_type": "stream",
     "text": [
      "800\n"
     ]
    }
   ],
   "source": [
    "result2 = num2 * num1 \n",
    "print(result2)"
   ]
  },
  {
   "cell_type": "code",
   "execution_count": 7,
   "metadata": {},
   "outputs": [
    {
     "name": "stdout",
     "output_type": "stream",
     "text": [
      "0.5\n"
     ]
    }
   ],
   "source": [
    "result2 = num1 / num2  \n",
    "print(result2)"
   ]
  },
  {
   "cell_type": "code",
   "execution_count": 8,
   "metadata": {},
   "outputs": [
    {
     "name": "stdout",
     "output_type": "stream",
     "text": [
      "0\n"
     ]
    }
   ],
   "source": [
    "result2 = num2 % num1 \n",
    "print(result2)"
   ]
  },
  {
   "cell_type": "markdown",
   "metadata": {},
   "source": [
    "## Relational operators"
   ]
  },
  {
   "cell_type": "code",
   "execution_count": 9,
   "metadata": {},
   "outputs": [
    {
     "data": {
      "text/plain": [
       "True"
      ]
     },
     "execution_count": 9,
     "metadata": {},
     "output_type": "execute_result"
    }
   ],
   "source": [
    "num1 <= num2"
   ]
  },
  {
   "cell_type": "code",
   "execution_count": 11,
   "metadata": {},
   "outputs": [
    {
     "data": {
      "text/plain": [
       "False"
      ]
     },
     "execution_count": 11,
     "metadata": {},
     "output_type": "execute_result"
    }
   ],
   "source": [
    "num2 < num1"
   ]
  },
  {
   "cell_type": "code",
   "execution_count": 15,
   "metadata": {},
   "outputs": [
    {
     "data": {
      "text/plain": [
       "False"
      ]
     },
     "execution_count": 15,
     "metadata": {},
     "output_type": "execute_result"
    }
   ],
   "source": [
    "num1 == num2"
   ]
  },
  {
   "cell_type": "code",
   "execution_count": 14,
   "metadata": {},
   "outputs": [
    {
     "data": {
      "text/plain": [
       "False"
      ]
     },
     "execution_count": 14,
     "metadata": {},
     "output_type": "execute_result"
    }
   ],
   "source": [
    "num1 >= num2"
   ]
  },
  {
   "cell_type": "code",
   "execution_count": 13,
   "metadata": {},
   "outputs": [
    {
     "data": {
      "text/plain": [
       "True"
      ]
     },
     "execution_count": 13,
     "metadata": {},
     "output_type": "execute_result"
    }
   ],
   "source": [
    "num2 > num1"
   ]
  },
  {
   "cell_type": "code",
   "execution_count": 12,
   "metadata": {},
   "outputs": [
    {
     "data": {
      "text/plain": [
       "True"
      ]
     },
     "execution_count": 12,
     "metadata": {},
     "output_type": "execute_result"
    }
   ],
   "source": [
    "num2 != num1"
   ]
  },
  {
   "cell_type": "markdown",
   "metadata": {},
   "source": [
    "## Logical Operators "
   ]
  },
  {
   "cell_type": "code",
   "execution_count": 17,
   "metadata": {},
   "outputs": [
    {
     "data": {
      "text/plain": [
       "True"
      ]
     },
     "execution_count": 17,
     "metadata": {},
     "output_type": "execute_result"
    }
   ],
   "source": [
    "lucius = 40\n",
    "mike = 60\n",
    "emma = 20\n",
    "dee = 50\n",
    "\n",
    "lucius < dee and emma < mike"
   ]
  },
  {
   "cell_type": "code",
   "execution_count": 21,
   "metadata": {},
   "outputs": [
    {
     "data": {
      "text/plain": [
       "True"
      ]
     },
     "execution_count": 21,
     "metadata": {},
     "output_type": "execute_result"
    }
   ],
   "source": [
    "lucius < dee or emma > mike"
   ]
  },
  {
   "cell_type": "code",
   "execution_count": 22,
   "metadata": {},
   "outputs": [
    {
     "data": {
      "text/plain": [
       "True"
      ]
     },
     "execution_count": 22,
     "metadata": {},
     "output_type": "execute_result"
    }
   ],
   "source": [
    "lucius != dee "
   ]
  },
  {
   "cell_type": "markdown",
   "metadata": {},
   "source": [
    "## Assignment\n",
    "\n",
    "Write a Python program that calculates the area of a rectangle. The program should prompt the user to input the length and width of the rectangle, calculate the area, and print the result.\n",
    "\n",
    "\n",
    "Write a Python program that asks for the user’s first and last name, then prints a message saying “Hello” followed by the user’s full name.\n",
    "\n",
    "Write a Python script that takes two numbers from the user and prints the result of their addition, subtraction, multiplication, and division.\n",
    "\n",
    "Create a Python script that converts temperature from Celsius to Fahrenheit. The formula to convert Celsius to Fahrenheit is (Celsius * 9/5) + 32. Prompt the user to enter a temperature in Celsius and print the corresponding temperature in Fahrenheit."
   ]
  },
  {
   "cell_type": "code",
   "execution_count": 1,
   "metadata": {},
   "outputs": [
    {
     "name": "stdout",
     "output_type": "stream",
     "text": [
      "Your current temperature is  122.0\n"
     ]
    }
   ],
   "source": [
    "#Solution\n",
    "temperature = input(\"Enter a your temperature Here\")\n",
    "Celsius = float(temperature)\n",
    "Fahrenheit = (Celsius * 9/5) + 32\n",
    "print(\"Your current temperature is \", Fahrenheit)"
   ]
  },
  {
   "cell_type": "code",
   "execution_count": 2,
   "metadata": {},
   "outputs": [
    {
     "name": "stdout",
     "output_type": "stream",
     "text": [
      "6.999744\n"
     ]
    }
   ],
   "source": [
    "x = 1 + 2 * 3 - 4 / 5 ** 6\n",
    "print(x)"
   ]
  },
  {
   "cell_type": "code",
   "execution_count": 3,
   "metadata": {},
   "outputs": [
    {
     "name": "stdout",
     "output_type": "stream",
     "text": [
      "31252.0\n"
     ]
    }
   ],
   "source": [
    "p = 2 + 5 ** 6 / 4 * 8\n",
    "print(p)\n"
   ]
  },
  {
   "cell_type": "code",
   "execution_count": null,
   "metadata": {},
   "outputs": [],
   "source": [
    "n = int(input(\"\"))\n",
    "n = float(input(\"\"))"
   ]
  },
  {
   "cell_type": "code",
   "execution_count": 7,
   "metadata": {},
   "outputs": [
    {
     "name": "stdout",
     "output_type": "stream",
     "text": [
      "emma\n"
     ]
    }
   ],
   "source": [
    "name = input('What is your name? \\n')\n",
    "print(name)"
   ]
  },
  {
   "cell_type": "code",
   "execution_count": 15,
   "metadata": {},
   "outputs": [
    {
     "name": "stdout",
     "output_type": "stream",
     "text": [
      "08138824521\n"
     ]
    }
   ],
   "source": [
    "\n",
    "number = input('What is your phone number?')\n",
    "print(number)"
   ]
  },
  {
   "cell_type": "code",
   "execution_count": 11,
   "metadata": {},
   "outputs": [
    {
     "name": "stdout",
     "output_type": "stream",
     "text": [
      "080374488\n"
     ]
    }
   ],
   "source": [
    "tem = \"080374488\"\n",
    "print(tem)"
   ]
  },
  {
   "cell_type": "code",
   "execution_count": 17,
   "metadata": {},
   "outputs": [
    {
     "name": "stdout",
     "output_type": "stream",
     "text": [
      "568\n"
     ]
    }
   ],
   "source": [
    "age = input(\"Enter Age\")\n",
    "print(age)\n"
   ]
  },
  {
   "cell_type": "code",
   "execution_count": 20,
   "metadata": {},
   "outputs": [
    {
     "name": "stdout",
     "output_type": "stream",
     "text": [
      "5683\n"
     ]
    }
   ],
   "source": [
    "#this is a comment\n",
    "\n",
    "\"\"\"\n",
    "multi-line comment in python \n",
    "\"\"\"\n",
    "new_age = age + str(3) #the expression\n",
    "print(new_age)\n"
   ]
  },
  {
   "cell_type": "markdown",
   "metadata": {},
   "source": [
    "Assignment "
   ]
  },
  {
   "cell_type": "code",
   "execution_count": 7,
   "metadata": {},
   "outputs": [
    {
     "name": "stdout",
     "output_type": "stream",
     "text": [
      "4\n"
     ]
    }
   ],
   "source": []
  },
  {
   "cell_type": "markdown",
   "metadata": {},
   "source": [
    "## Conditional constructs"
   ]
  },
  {
   "cell_type": "code",
   "execution_count": 8,
   "metadata": {},
   "outputs": [
    {
     "name": "stdout",
     "output_type": "stream",
     "text": [
      "this is true\n"
     ]
    }
   ],
   "source": [
    "# if statement\n",
    "\n",
    "number = 50\n",
    "if number == 50:\n",
    "    print(\"this is true\")"
   ]
  },
  {
   "cell_type": "code",
   "execution_count": 9,
   "metadata": {},
   "outputs": [
    {
     "name": "stdout",
     "output_type": "stream",
     "text": [
      "you are wrong boss\n"
     ]
    }
   ],
   "source": [
    "# if else statement\n",
    "\n",
    "number = 50\n",
    "if number > 50:\n",
    "    print(\"this is true\")\n",
    "else:\n",
    "    print(\"you are wrong boss\")"
   ]
  },
  {
   "cell_type": "code",
   "execution_count": 15,
   "metadata": {},
   "outputs": [
    {
     "name": "stdout",
     "output_type": "stream",
     "text": [
      "this is true\n"
     ]
    }
   ],
   "source": [
    "# elif statement\n",
    "\n",
    "number = 51\n",
    "number2 = 2\n",
    "number1 = 20\n",
    "if number > 50:\n",
    "    print(\"this is true\")\n",
    "elif number2 < number:\n",
    "    print(\"yes, number 2 is lesser\")\n",
    "elif number1 > number2:\n",
    "    print(\"yes, number1 is bigger than number 2\")\n",
    "else:\n",
    "    print(\"you are wrong boss\")"
   ]
  },
  {
   "cell_type": "code",
   "execution_count": 20,
   "metadata": {},
   "outputs": [
    {
     "name": "stdout",
     "output_type": "stream",
     "text": [
      "Yes, his name is mike\n",
      "he is a cool cat\n",
      "this guy is a bad guy\n"
     ]
    }
   ],
   "source": [
    "# Nested if construct\n",
    "\n",
    "name = \"Mike\"\n",
    "if name == \"Mike\":\n",
    "    print(\"Yes, his name is mike\")\n",
    "    state = input(\"Enter your state of origin\")\n",
    "    if state == \"Anambra\":\n",
    "        print(\"he is a cool cat\")\n",
    "    else:\n",
    "        print(\"please enter your actual state of origin\")\n",
    "else:\n",
    "    print(\"you're code is not correct\")"
   ]
  },
  {
   "cell_type": "markdown",
   "metadata": {},
   "source": [
    "ASSIGNMENT\n",
    "\n",
    "\n",
    "1 Write a Python program to calculate the area of a rectangle given its length and width.\n",
    "2 Create a program that takes a user's name and age as input and prints a greeting message.\n",
    "3 Write a program to check if a number is even or odd.\n",
    "4 Given a list of numbers, find the maximum and minimum values.\n",
    "5 Create a Python function to check if a given string is a palindrome.\n",
    "6 Calculate the compound interest for a given principal amount, interest rate, and time period.\n",
    "7 Write a program that converts a given number of days into years, weeks, and days.\n",
    "8 Given a list of integers, find the sum of all positive numbers.\n",
    "9 Create a program that takes a sentence as input and counts the number of words in it.\n",
    "10 Implement a program that swaps the values of two variables."
   ]
  },
  {
   "cell_type": "code",
   "execution_count": 1,
   "metadata": {},
   "outputs": [
    {
     "name": "stdout",
     "output_type": "stream",
     "text": [
      "The area of the rectangle is: 35.0\n"
     ]
    }
   ],
   "source": [
    "length = float(input(\"Enter the length of the rectangle: \"))\n",
    "width = float(input(\"Enter the width of the rectangle: \"))\n",
    "area = length * width #concatination\n",
    "print(\"The area of the rectangle is:\", area)\n"
   ]
  },
  {
   "cell_type": "code",
   "execution_count": 5,
   "metadata": {},
   "outputs": [
    {
     "name": "stdout",
     "output_type": "stream",
     "text": [
      "hello Emma You are 904, years old\n"
     ]
    }
   ],
   "source": [
    "name = input(\"Enter your name: \")\n",
    "age = int(input(\"Enter your age: \"))\n",
    "# print(\"Hello,\", name + \"! You are\", age, \"years old.\")\n",
    "print(f\"hello {name} You are {age}, years old\")"
   ]
  },
  {
   "cell_type": "code",
   "execution_count": 11,
   "metadata": {},
   "outputs": [
    {
     "name": "stdout",
     "output_type": "stream",
     "text": [
      "2 is even.\n"
     ]
    }
   ],
   "source": [
    "number = int(input(\"Enter a number: \"))\n",
    "if number % 2 == 0:\n",
    "    print(number, \"is even.\")\n",
    "else:\n",
    "    print(number, \"is odd.\")\n"
   ]
  },
  {
   "cell_type": "code",
   "execution_count": null,
   "metadata": {},
   "outputs": [],
   "source": [
    "numbers = [int(x) for x in input(\"Enter numbers separated by space: \").split()]\n",
    "max_value = max(numbers)\n",
    "min_value = min(numbers)\n",
    "print(\"Maximum value:\", max_value)\n",
    "print(\"Minimum value:\", min_value)\n"
   ]
  },
  {
   "cell_type": "code",
   "execution_count": null,
   "metadata": {},
   "outputs": [],
   "source": [
    "def is_palindrome(string):\n",
    "    return string == string[::-1]\n",
    "\n",
    "input_string = input(\"Enter a string: \")\n",
    "if is_palindrome(input_string):\n",
    "    print(\"It's a palindrome.\")\n",
    "else:\n",
    "    print(\"It's not a palindrome.\")\n"
   ]
  },
  {
   "cell_type": "code",
   "execution_count": null,
   "metadata": {},
   "outputs": [],
   "source": [
    "def compound_interest(principal, rate, time):\n",
    "    return principal * ((1 + rate / 100) ** time - 1)\n",
    "\n",
    "principal = float(input(\"Enter the principal amount: \"))\n",
    "rate = float(input(\"Enter the interest rate: \"))\n",
    "time = float(input(\"Enter the time period (in years): \"))\n",
    "interest = compound_interest(principal, rate, time)\n",
    "print(\"Compound interest:\", interest)\n"
   ]
  },
  {
   "cell_type": "code",
   "execution_count": null,
   "metadata": {},
   "outputs": [],
   "source": [
    "def convert_days(days):\n",
    "    years = days // 365\n",
    "    weeks = (days % 365) // 7\n",
    "    remaining_days = (days % 365) % 7\n",
    "    return years, weeks, remaining_days\n",
    "\n",
    "days = int(input(\"Enter the number of days: \"))\n",
    "years, weeks, remaining_days = convert_days(days)\n",
    "print(\"Years:\", years)\n",
    "print(\"Weeks:\", weeks)\n",
    "print(\"Days:\", remaining_days)\n"
   ]
  },
  {
   "cell_type": "markdown",
   "metadata": {},
   "source": [
    "Write a program to accept time in 24Hrs format and then greet the user.\n",
    "\n",
    "Time between 0-12 : Good Morning\n",
    "Time between 13-16 : Good Afternoon\n",
    "Time between 17-20 : Good Evening\n",
    "Time between 21-24 : Good Night\n",
    "Otherwise : Wrong Input\n"
   ]
  },
  {
   "cell_type": "code",
   "execution_count": 16,
   "metadata": {},
   "outputs": [
    {
     "name": "stdout",
     "output_type": "stream",
     "text": [
      "Hello,Emma Good Afternoon\n"
     ]
    }
   ],
   "source": [
    "name = input(\"Enter your name \")\n",
    "Time = float(input(\"Enter time in 24 hours format\"))\n",
    "\n",
    "if Time >= 0 and Time <= 12:\n",
    "    print(f\"Hello,{name} Good morning\")\n",
    "elif Time > 12 and Time <= 16:\n",
    "    print(f\"Hello,{name} Good Afternoon\")\n",
    "elif Time > 16 and Time <= 20:\n",
    "    print(f\"Hello,{name} Good Evening\")\n",
    "elif Time > 20 and Time <= 24:\n",
    "    print(f\"Hello,{name} Good Night\")\n",
    "else:\n",
    "    print(f\"Hello,{name} You have entered an invalid input\")"
   ]
  },
  {
   "cell_type": "markdown",
   "metadata": {},
   "source": [
    "## functions in python "
   ]
  },
  {
   "cell_type": "code",
   "execution_count": null,
   "metadata": {},
   "outputs": [],
   "source": [
    "def testFun():\n",
    "    name = \"Carkson\"\n",
    "    print(name)\n",
    "    # return name\n",
    "testFun()"
   ]
  },
  {
   "cell_type": "code",
   "execution_count": null,
   "metadata": {},
   "outputs": [],
   "source": [
    "def compound_interest(principal, rate, time):\n",
    "    return principal * ((1 + rate / 100) ** time - 1)\n",
    "\n",
    "principal = 40.5\n",
    "rate = 0.9\n",
    "time = 10\n",
    "interest = compound_interest(principal, rate, time)\n",
    "\n",
    "print(\"Compound interest:\", interest)\n",
    "  \n",
    "  "
   ]
  },
  {
   "cell_type": "code",
   "execution_count": null,
   "metadata": {},
   "outputs": [],
   "source": [
    "import math\n",
    "\n",
    "myMath = 100.7\n",
    "\n",
    "print(math.floor(myMath))\n",
    "print(math.sqrt(myMath))"
   ]
  },
  {
   "cell_type": "markdown",
   "metadata": {},
   "source": [
    "## Flow of control"
   ]
  },
  {
   "cell_type": "code",
   "execution_count": 3,
   "metadata": {},
   "outputs": [
    {
     "name": "stdout",
     "output_type": "stream",
     "text": [
      "30\n"
     ]
    }
   ],
   "source": [
    "x = 30\n",
    "print(x)"
   ]
  },
  {
   "cell_type": "code",
   "execution_count": 4,
   "metadata": {},
   "outputs": [
    {
     "name": "stdout",
     "output_type": "stream",
     "text": [
      "50\n"
     ]
    }
   ],
   "source": [
    "# Update value of a variable\n",
    "\n",
    "x = x+20\n",
    "print(x)"
   ]
  },
  {
   "cell_type": "markdown",
   "metadata": {},
   "source": [
    "## while loop"
   ]
  },
  {
   "cell_type": "code",
   "execution_count": null,
   "metadata": {},
   "outputs": [],
   "source": [
    "fred = 5\n",
    "while fred > 0:\n",
    "    print(fred)\n",
    "    fred = fred - 1\n",
    "    print(\"At Niit learning doesn't stop here\")"
   ]
  },
  {
   "cell_type": "code",
   "execution_count": null,
   "metadata": {},
   "outputs": [],
   "source": [
    "n = 2 \n",
    "while n <= 10:\n",
    "    if n%2==0:\n",
    "        print(n)\n",
    "    n = n + 1"
   ]
  },
  {
   "cell_type": "markdown",
   "metadata": {},
   "source": [
    "## infinite loop"
   ]
  },
  {
   "cell_type": "code",
   "execution_count": null,
   "metadata": {},
   "outputs": [],
   "source": [
    "var1 = -1\n",
    "while var1 <0:\n",
    "    print(var1)\n",
    "    var1 = var1 - 1"
   ]
  },
  {
   "cell_type": "markdown",
   "metadata": {},
   "source": [
    "### useing Break "
   ]
  },
  {
   "cell_type": "code",
   "execution_count": 6,
   "metadata": {},
   "outputs": [
    {
     "name": "stdout",
     "output_type": "stream",
     "text": [
      "emma\n"
     ]
    }
   ],
   "source": [
    "while True:\n",
    "    line = input(\"Enter a word\")\n",
    "    if line == \"done\":\n",
    "        break\n",
    "    print(line)"
   ]
  },
  {
   "cell_type": "markdown",
   "metadata": {},
   "source": [
    "### using continue"
   ]
  },
  {
   "cell_type": "code",
   "execution_count": 2,
   "metadata": {},
   "outputs": [],
   "source": [
    "while True:\n",
    "    line = input('Enter your name')\n",
    "    if line[0] == 'c' :\n",
    "        continue\n",
    "    if line == 'done':\n",
    "        print(line)\n",
    "        break\n",
    "    \n"
   ]
  },
  {
   "cell_type": "markdown",
   "metadata": {},
   "source": [
    "### for loop"
   ]
  },
  {
   "cell_type": "code",
   "execution_count": null,
   "metadata": {},
   "outputs": [],
   "source": [
    "friends = ['Joseph', 'Glenn', 'Sally', 'Mike', 'Ella','Lucius']\n",
    "for i in friends:\n",
    "    print('Happy New Year:', i)\n"
   ]
  },
  {
   "cell_type": "code",
   "execution_count": null,
   "metadata": {},
   "outputs": [],
   "source": [
    "total = 0\n",
    "for i in [3, 41, 12, 9, 74, 15]:\n",
    "    total = total + i\n",
    "    print('Total: ', total)\n"
   ]
  },
  {
   "cell_type": "markdown",
   "metadata": {},
   "source": [
    "## max and min"
   ]
  },
  {
   "cell_type": "code",
   "execution_count": 6,
   "metadata": {},
   "outputs": [
    {
     "name": "stdout",
     "output_type": "stream",
     "text": [
      "Smallest: 3\n"
     ]
    }
   ],
   "source": [
    "smallest = None\n",
    "for i in [3, 41, 12, 9, 74, 15]:\n",
    "    if smallest is None or i < smallest:\n",
    "        smallest = i\n",
    "        print('Smallest:', smallest)\n"
   ]
  },
  {
   "cell_type": "code",
   "execution_count": 7,
   "metadata": {},
   "outputs": [
    {
     "name": "stdout",
     "output_type": "stream",
     "text": [
      "largest: 3\n",
      "largest: 41\n",
      "largest: 74\n"
     ]
    }
   ],
   "source": [
    "largest = None\n",
    "for i in [3, 41, 12, 9, 74, 15]:\n",
    "    if largest is None or i > largest:\n",
    "        largest = i\n",
    "        print('largest:', largest)\n"
   ]
  },
  {
   "cell_type": "markdown",
   "metadata": {},
   "source": [
    "## string"
   ]
  },
  {
   "cell_type": "code",
   "execution_count": 1,
   "metadata": {},
   "outputs": [
    {
     "name": "stdout",
     "output_type": "stream",
     "text": [
      "Hello Pyhton programmers\n",
      "Hello Angular programmers\n"
     ]
    }
   ],
   "source": [
    "string = 'Hello Pyhton programmers'\n",
    "string1 = \"Hello Angular programmers\"\n",
    "\n",
    "print(string)\n",
    "print(string1)"
   ]
  },
  {
   "cell_type": "code",
   "execution_count": 9,
   "metadata": {},
   "outputs": [
    {
     "name": "stdout",
     "output_type": "stream",
     "text": [
      "mi\n"
     ]
    }
   ],
   "source": [
    "#String representation in memory\n",
    "\n",
    "stdname = \"mike\"\n",
    "letter = stdname[0:2]\n",
    "print(letter)"
   ]
  },
  {
   "cell_type": "code",
   "execution_count": 10,
   "metadata": {},
   "outputs": [
    {
     "name": "stdout",
     "output_type": "stream",
     "text": [
      "this is true\n",
      "this is true\n"
     ]
    }
   ],
   "source": [
    "m = [\"mike\", \"emma\"]\n",
    "\n",
    "for i in m:\n",
    "    print(\"this is true\")"
   ]
  },
  {
   "cell_type": "code",
   "execution_count": 13,
   "metadata": {},
   "outputs": [],
   "source": [
    "if \"mike\" not in m: \n",
    "    print(\"yoo\")"
   ]
  },
  {
   "cell_type": "code",
   "execution_count": null,
   "metadata": {},
   "outputs": [],
   "source": [
    "index = 0\n",
    "stdname = 'George'\n",
    "while index < len(stdname):\n",
    "    letter = stdname[index]\n",
    "    print(letter)\n",
    "    index = index + 1\n"
   ]
  },
  {
   "cell_type": "code",
   "execution_count": 17,
   "metadata": {},
   "outputs": [
    {
     "name": "stdout",
     "output_type": "stream",
     "text": [
      "This is a python programming class \n"
     ]
    }
   ],
   "source": [
    "myString = \"this is a python programming class \"\n",
    "print(myString.capitalize())"
   ]
  },
  {
   "cell_type": "code",
   "execution_count": 21,
   "metadata": {},
   "outputs": [
    {
     "name": "stdout",
     "output_type": "stream",
     "text": [
      "True\n"
     ]
    }
   ],
   "source": [
    "myString = \"this is a python   programming class   \"\n",
    "myString1 = \"CARKSON\"\n",
    "print(myString1.isupper())"
   ]
  },
  {
   "cell_type": "code",
   "execution_count": 22,
   "metadata": {},
   "outputs": [
    {
     "name": "stdout",
     "output_type": "stream",
     "text": [
      "35\n"
     ]
    }
   ],
   "source": [
    "myString = \"this is a python programming class \"\n",
    "print(len(myString))"
   ]
  },
  {
   "cell_type": "markdown",
   "metadata": {},
   "source": [
    "## String comparison"
   ]
  },
  {
   "cell_type": "code",
   "execution_count": 3,
   "metadata": {},
   "outputs": [
    {
     "name": "stdout",
     "output_type": "stream",
     "text": [
      "both are not equal\n"
     ]
    }
   ],
   "source": [
    "fruit1 = \"Apple\"\n",
    "fruit2 = \"Apple\"\n",
    "\n",
    "if fruit1 == fruit2:\n",
    "    print(\"Both are equal\")\n",
    "else:\n",
    "    print(\"both are not equal\")"
   ]
  },
  {
   "cell_type": "code",
   "execution_count": 4,
   "metadata": {},
   "outputs": [
    {
     "name": "stdout",
     "output_type": "stream",
     "text": [
      "Both are not equal\n"
     ]
    }
   ],
   "source": [
    "fruit1 = \"Apple\"\n",
    "fruit2 = \"Mango\"\n",
    "\n",
    "if fruit1 != fruit2:\n",
    "    print(\"Both are not equal\")"
   ]
  },
  {
   "cell_type": "code",
   "execution_count": 7,
   "metadata": {},
   "outputs": [
    {
     "name": "stdout",
     "output_type": "stream",
     "text": [
      "There are 20 fruits in the basket \n",
      " there are 20 fruits in the basket\n",
      "ther are  20 fruits in the basket\n"
     ]
    }
   ],
   "source": [
    "fruits = 20\n",
    "print('There are %d fruits in the basket ' %fruits)\n",
    "print(f\" there are {fruits} fruits in the basket\")\n",
    "print(\"ther are \", fruits, \"fruits in the basket\")"
   ]
  },
  {
   "cell_type": "code",
   "execution_count": 15,
   "metadata": {},
   "outputs": [
    {
     "name": "stdout",
     "output_type": "stream",
     "text": [
      "<_io.TextIOWrapper name='mbox.txt' mode='r' encoding='cp1252'>\n"
     ]
    }
   ],
   "source": [
    "sample = open(\"mbox.txt\", 'r')\n",
    "print(sample)"
   ]
  },
  {
   "cell_type": "code",
   "execution_count": 16,
   "metadata": {},
   "outputs": [
    {
     "name": "stdout",
     "output_type": "stream",
     "text": [
      "python\n",
      "programming is sweet\n"
     ]
    }
   ],
   "source": [
    "text = \"python\\nprogramming is sweet\"\n",
    "print(text)"
   ]
  },
  {
   "cell_type": "code",
   "execution_count": 21,
   "metadata": {},
   "outputs": [
    {
     "name": "stdout",
     "output_type": "stream",
     "text": [
      "Line Count: 37\n"
     ]
    }
   ],
   "source": [
    "fhand = open('main.py', \"r\")\n",
    "count = 0\n",
    "for line in fhand:\n",
    "    count = count + 1\n",
    "print('Line Count:', count)\n"
   ]
  },
  {
   "cell_type": "code",
   "execution_count": null,
   "metadata": {},
   "outputs": [],
   "source": [
    "fhand = open('main.py', \"r\")\n",
    "myrange = fhand.read()\n",
    "print(myrange[:400])"
   ]
  },
  {
   "cell_type": "markdown",
   "metadata": {},
   "source": [
    "## To search a file "
   ]
  },
  {
   "cell_type": "code",
   "execution_count": 2,
   "metadata": {},
   "outputs": [
    {
     "name": "stdout",
     "output_type": "stream",
     "text": [
      "From: stephen.marquard@uct.ac.za\n",
      "\n",
      "From: louis@media.berkeley.edu\n",
      "\n",
      "From: zqian@umich.edu\n",
      "\n",
      "From: rjlowe@iupui.edu\n",
      "\n"
     ]
    }
   ],
   "source": [
    "de = open(\"mbox.txt\", \"r\")\n",
    "for line in de:\n",
    "    if line.startswith(\"From\"):\n",
    "        print(line)\n"
   ]
  },
  {
   "cell_type": "markdown",
   "metadata": {},
   "source": [
    "Problem Statement: \n",
    "\n",
    "Write a program to accept the following Python code that stores a string:\n",
    "str = 'X-DSPAM-Confidence: 0.8475'\n",
    "Use find and string slicing to extract the portion of the string after the colon character and then use the float function to convert the extracted string into a floating point number.\n",
    "\n",
    "Hint: Use split() and  float().\n",
    "\n",
    "Prerequisite: For this activity please refer “mbox-short.txt” available in “Data_File_For_Students” folder.\n",
    "\n",
    "\n"
   ]
  },
  {
   "cell_type": "code",
   "execution_count": 20,
   "metadata": {},
   "outputs": [
    {
     "name": "stdout",
     "output_type": "stream",
     "text": [
      "0.8475\n"
     ]
    }
   ],
   "source": [
    "str = \"X-DSPAM.Confidence:0.8475\"\n",
    "n = str.split(':')\n",
    "result = float(n[1])\n",
    "print(result)"
   ]
  },
  {
   "cell_type": "markdown",
   "metadata": {},
   "source": [
    "### find( )"
   ]
  },
  {
   "cell_type": "code",
   "execution_count": null,
   "metadata": {},
   "outputs": [],
   "source": [
    "fhand = open('mbox.txt', 'r')\n",
    "for line in fhand:\n",
    "\tline=line.rstrip()\n",
    "\tif line.find('@gmail') == -1:\n",
    "\t\tcontinue\n",
    "\tprint(line)\n"
   ]
  },
  {
   "cell_type": "code",
   "execution_count": null,
   "metadata": {},
   "outputs": [],
   "source": [
    "fname = input('Enter the file name: ')\n",
    "fhand = open(fname)\n",
    "count = 0\n",
    "for line in fhand:\n",
    "    if line.startswith('Subject') :\n",
    "        count = count + 1\n",
    "        print('There were', count, 'subject lines in', fname)\n"
   ]
  },
  {
   "cell_type": "code",
   "execution_count": 17,
   "metadata": {},
   "outputs": [
    {
     "data": {
      "text/plain": [
       "4"
      ]
     },
     "execution_count": 17,
     "metadata": {},
     "output_type": "execute_result"
    }
   ],
   "source": [
    "fout = open('output.txt', 'w')\n",
    "line1 = input(\"Enter your file content\")\n",
    "fout.write(line1)\n"
   ]
  },
  {
   "cell_type": "markdown",
   "metadata": {},
   "source": [
    "### Handling Exceptions"
   ]
  },
  {
   "cell_type": "code",
   "execution_count": null,
   "metadata": {},
   "outputs": [],
   "source": [
    "# Code without try and exception\n",
    "fh = open('myfile.txt','r')\n",
    "fh.write(\"this is my file with exception handling\")\n",
    "print(\"written content to the file successfully\")"
   ]
  },
  {
   "cell_type": "code",
   "execution_count": 23,
   "metadata": {},
   "outputs": [
    {
     "name": "stdout",
     "output_type": "stream",
     "text": [
      "Error: can't find file or read data\n"
     ]
    }
   ],
   "source": [
    "#Same code with try and exception\n",
    "\n",
    "try:\n",
    "    fh = open('myfile.txt','r')\n",
    "    fh.write(\"this is my file with exception handling\")\n",
    "except IOError:\n",
    "    print(\"Error: can't find file or read data\")\n",
    "else:\n",
    "    print(\"written content in the file successfully\")"
   ]
  },
  {
   "cell_type": "code",
   "execution_count": 29,
   "metadata": {},
   "outputs": [
    {
     "name": "stdout",
     "output_type": "stream",
     "text": [
      "Error: can't find file or read data\n"
     ]
    }
   ],
   "source": [
    "# handling multiple Errors with one Exception \n",
    "try:\n",
    "    fh = open('myfile.txt','r')\n",
    "    fh.write(\"this is my file with exception handling\")\n",
    "except (AttributeError, IOError):\n",
    "    print(\"Error: can't find file or read data\")\n",
    "else:\n",
    "    print(\"written content in the file successfully\")"
   ]
  },
  {
   "cell_type": "markdown",
   "metadata": {},
   "source": [
    "Problem Statement: \n",
    "\n",
    "Write a program to accept file name from the user and display all the lines containing “Subject:” as first word. \n",
    "\n",
    "Here is a sample execution of the program:\n",
    "Enter the file name: mbox-short.txt\n",
    "There were 27 subject lines in mbox-short.txt"
   ]
  },
  {
   "cell_type": "code",
   "execution_count": null,
   "metadata": {},
   "outputs": [],
   "source": [
    "fname = input('Enter the file name: ')\n",
    "fhand = open(fname)\n",
    "count = 0\n",
    "for line in fhand:\n",
    "    if line.startswith('Subject') :\n",
    "        count = count + 1\n",
    "        print('There were', count, 'subject lines in', fname)\n"
   ]
  },
  {
   "cell_type": "markdown",
   "metadata": {},
   "source": [
    "Problem Statement: \n",
    "\n",
    "Modify the program that prompts the user for the file name so that it prints a funny message when the user types in the exact file name “na na boo boo”. The program should behave normally for all other files which exist or does not exist.\n",
    " \n",
    "Here is a sample execution of the program:\n",
    "Enter the file name: mbox.txt\n",
    "There were 1797 subject lines in mbox.txt\n",
    "Enter the file name: missing.tyxt\n",
    "File cannot be opened: missing.tyxt\n",
    "Enter the file name: na na boo boo\n",
    "NA NA BOO BOO TO YOU - You have been punk'd!\n"
   ]
  },
  {
   "cell_type": "code",
   "execution_count": 5,
   "metadata": {},
   "outputs": [
    {
     "name": "stdout",
     "output_type": "stream",
     "text": [
      "There were 8 subject lines in myText.txt.\n"
     ]
    }
   ],
   "source": [
    "filename = input(\"Enter the file name: \")\n",
    "if filename == \"na na boo boo\":\n",
    "    print(\"NA NA BOO BOO TO YOU - You have been punk'd!\")\n",
    "else:\n",
    "    try:\n",
    "        with open(filename) as f:\n",
    "            count = 0\n",
    "            for line in f:\n",
    "                if line.startswith('Subject'):\n",
    "                    count += 1  \n",
    "            print(f\"There were {count} subject lines in {filename}.\")\n",
    "    except FileNotFoundError:\n",
    "        print(f\"Sorry, the file '{filename}' does not exist.\")"
   ]
  },
  {
   "cell_type": "code",
   "execution_count": 6,
   "metadata": {},
   "outputs": [
    {
     "name": "stdout",
     "output_type": "stream",
     "text": [
      "There were 8 subject lines in mytext.txt.\n",
      "File Content:\n",
      "Subject ipsum dolor, sit amet consectetur adipisicing elit. Natus eligendi ipsam sed molestias molestiae? Distinctio id veniam \n",
      "Subject iusto? Distinctio similique repellat odio minus eum, dolorum porro aut voluptatem nihil velit vel iusto \n",
      "Subject quisquam doloremque magnam ex, pariatur est eos veniam sequi at corrupti fugiat optio quia! \n",
      "\n",
      "Subject exercitationem voluptatum s\n",
      "Subject. Eum laudantium veritatis id dolorem eius in. Aspernatur odit neque laboriosam voluptas iusto magnam nobis maxime! Culpa eius quam vitae ea nesciunt totam sint eveniet, sunt, fugiat voluptatem aliquid quo placeat natus! Voluptates, modi ab. Ipsa, corporis. Officiis sapiente quidem voluptatum hic aliquid quis nihil possimus rem alias ad id dolore impedit, sunt nam ut \n",
      "Subject eum repudiandae quasi modi. Amet, iure voluptatum soluta, nihil ratione recusandae, maxime perferendis minima aspernatur deleniti \n",
      "\n",
      "Subject eaque porro quis. Saepe, dolorum? Eum a laudantium veritatis, nobis sapiente eaque minima esse reprehenderit debitis quo saepe sequi nostrum nemo quaerat nam explicabo cupiditate, dolore atque! Debitis omnis exercitationem placeat architecto, incidunt aspernatur iste! Quos minima suscipit officiis harum quae. Atque vitae soluta ad aspernatur \n",
      "Subject ea, odio modi ratione suscipit praesentium sunt, ex alias. Ipsam, mollitia debitis? Ducimus officiis eaque quam inventore vitae sed animi repellat illum a! Quam iusto assumenda corporis quibusdam?\n"
     ]
    }
   ],
   "source": [
    "filename = input(\"Enter the file name: \")\n",
    "\n",
    "if filename == \"na na boo boo\":\n",
    "    print(\"NA NA BOO BOO TO YOU - You have been punk'd!\")\n",
    "else:\n",
    "    try:\n",
    "        with open(filename) as f:\n",
    "            count = 0\n",
    "            for line in f:\n",
    "                if line.startswith('Subject'):\n",
    "                    count += 1 \n",
    "            print(f\"There were {count} subject lines in {filename}.\")\n",
    "\n",
    "            f.seek(0)\n",
    "            content = f.read() \n",
    "            print(\"File Content:\")\n",
    "            print(content) \n",
    "    except FileNotFoundError:\n",
    "        print(f\"Sorry, the file '{filename}' does not exist.\")\n"
   ]
  },
  {
   "cell_type": "markdown",
   "metadata": {},
   "source": [
    "## List in python"
   ]
  },
  {
   "cell_type": "code",
   "execution_count": 8,
   "metadata": {},
   "outputs": [
    {
     "name": "stdout",
     "output_type": "stream",
     "text": [
      "['dee', 'emma', 'mike', 'lucius', 'carkson', 0, 20, 30.5]\n",
      "[10, 20, 30, 40]\n"
     ]
    }
   ],
   "source": [
    "# list []\n",
    "#  list is collection which is ordered and changeable\n",
    "# it allows duplicate members\n",
    "\n",
    "myList = [\"dee\", \"emma\", \"mike\", \"lucius\", \"carkson\", 0, 20, 30.5]\n",
    "myList2 = [10,20,30,40]\n",
    "\n",
    "print(myList)\n",
    "print(myList2)"
   ]
  },
  {
   "cell_type": "code",
   "execution_count": null,
   "metadata": {},
   "outputs": [],
   "source": [
    "dept = ['IT','CSE','ECE','CSE']\n",
    "for i in dept:\n",
    "    print(i)"
   ]
  },
  {
   "cell_type": "code",
   "execution_count": null,
   "metadata": {},
   "outputs": [],
   "source": [
    "numbers = [10,20,30,40]\n",
    "for i in range(len(numbers)):\n",
    "    numbers[i]=numbers[i]*2\n",
    "    print(numbers[i])\n",
    "\n"
   ]
  },
  {
   "cell_type": "code",
   "execution_count": 12,
   "metadata": {},
   "outputs": [
    {
     "name": "stdout",
     "output_type": "stream",
     "text": [
      "[1, 2, 3, 4, 5, 6]\n"
     ]
    }
   ],
   "source": [
    "a = [1,2,3]\n",
    "b = [4,5,6]\n",
    "\n",
    "c = a + b\n",
    "print(c)"
   ]
  },
  {
   "cell_type": "code",
   "execution_count": 15,
   "metadata": {},
   "outputs": [
    {
     "name": "stdout",
     "output_type": "stream",
     "text": [
      "[10, 20, 30, 40, 10, 20, 30, 40]\n"
     ]
    }
   ],
   "source": [
    "a = [10,20,30,40]\n",
    "b = a*2\n",
    "print(b)"
   ]
  },
  {
   "cell_type": "code",
   "execution_count": 18,
   "metadata": {},
   "outputs": [
    {
     "name": "stdout",
     "output_type": "stream",
     "text": [
      "['b', 'c']\n"
     ]
    }
   ],
   "source": [
    "alpha = ['a','b','c','d','e','f']\n",
    "result = alpha[1:3]\n",
    "print(result)"
   ]
  },
  {
   "cell_type": "markdown",
   "metadata": {},
   "source": [
    "### List method"
   ]
  },
  {
   "cell_type": "code",
   "execution_count": 22,
   "metadata": {},
   "outputs": [
    {
     "name": "stdout",
     "output_type": "stream",
     "text": [
      "['A', 'B', 'C', 'D']\n",
      "['A', 'B', 'C', 'D', 'E', 'F']\n",
      "['A', 'C']\n",
      "['A', 'B']\n"
     ]
    }
   ],
   "source": [
    "#Append method\n",
    "\n",
    "mylist=['A','B','C']\n",
    "mylist.append('D')\n",
    "print(mylist)\n",
    "\n",
    "\n",
    "#Extend method\n",
    "mylist=['A','B','C']\n",
    "mylist2=['D','E','F']\n",
    "\n",
    "mylist.extend(mylist2)\n",
    "print(mylist)\n",
    "\n",
    "#using pop\n",
    "mylist1=['A','B','C']\n",
    "element = mylist1.pop(1)\n",
    "print(mylist1)\n",
    "\n",
    "\n",
    "#using remove method\n",
    "mylist1=['A','B','C']\n",
    "\n",
    "mylist1.remove('C')\n",
    "print(mylist1)\n"
   ]
  },
  {
   "cell_type": "code",
   "execution_count": null,
   "metadata": {},
   "outputs": [],
   "source": [
    "#Sort method\n",
    "numbers = [5, 2, 9, 1, 6]\n",
    "\n",
    "numbers.sort()\n",
    "print(numbers)"
   ]
  },
  {
   "cell_type": "code",
   "execution_count": 23,
   "metadata": {},
   "outputs": [
    {
     "name": "stdout",
     "output_type": "stream",
     "text": [
      "5\n"
     ]
    }
   ],
   "source": [
    "numbers = [10,20,30,40,50]\n",
    "print(len(numbers))\n"
   ]
  },
  {
   "cell_type": "markdown",
   "metadata": {},
   "source": [
    "### List function"
   ]
  },
  {
   "cell_type": "code",
   "execution_count": null,
   "metadata": {},
   "outputs": [],
   "source": [
    "numbers = [10,20,30,40,50]\n",
    "\n",
    "print(len(numbers)) #length\n",
    "print(max(numbers)) #maximum\n",
    "print(min(numbers)) #minimum\n",
    "\n"
   ]
  },
  {
   "cell_type": "code",
   "execution_count": 5,
   "metadata": {},
   "outputs": [
    {
     "name": "stdout",
     "output_type": "stream",
     "text": [
      "5\n",
      "10\n",
      "10\n"
     ]
    }
   ],
   "source": [
    "length = len(numbers)\n",
    "maxinum = max(numbers)\n",
    "minimum = min(numbers)\n",
    "\n",
    "print(length)\n",
    "print(minimum)\n",
    "print(minimum)"
   ]
  },
  {
   "cell_type": "code",
   "execution_count": 10,
   "metadata": {},
   "outputs": [
    {
     "name": "stdout",
     "output_type": "stream",
     "text": [
      "['I', 'am', 'studying', 'in', 'NIIT']\n"
     ]
    }
   ],
   "source": [
    "str = 'I am studying in NIIT'\n",
    "t = str.split()\n",
    "print(t)\n"
   ]
  },
  {
   "cell_type": "code",
   "execution_count": 34,
   "metadata": {},
   "outputs": [
    {
     "name": "stdout",
     "output_type": "stream",
     "text": [
      "Sat\n"
     ]
    }
   ],
   "source": [
    "\n",
    "fhand = open('parsing.txt')\n",
    "for line in fhand:\n",
    "\tline = line.rstrip()\n",
    "\tif not line.startswith('From ') : \n",
    "\t\tcontinue\n",
    "\twords = line.split()\n",
    "\tprint(words[2])\n"
   ]
  },
  {
   "cell_type": "code",
   "execution_count": 37,
   "metadata": {},
   "outputs": [
    {
     "data": {
      "text/plain": [
       "True"
      ]
     },
     "execution_count": 37,
     "metadata": {},
     "output_type": "execute_result"
    }
   ],
   "source": [
    "obj1 = \"Apple\"\n",
    "obj2 = \"Apple\"\n",
    "\n",
    "obj1 is obj2"
   ]
  },
  {
   "cell_type": "code",
   "execution_count": 39,
   "metadata": {},
   "outputs": [
    {
     "data": {
      "text/plain": [
       "False"
      ]
     },
     "execution_count": 39,
     "metadata": {},
     "output_type": "execute_result"
    }
   ],
   "source": [
    "obj1 = [10, 20, 30, 40, 50]\n",
    "obj2 = [10, 20, 30, 40, 50]\n",
    "\n",
    "obj1 is obj2"
   ]
  },
  {
   "cell_type": "code",
   "execution_count": null,
   "metadata": {},
   "outputs": [],
   "source": [
    "\n",
    "def insert_list(lst, index, item):\n",
    "    lst.insert(index, item)\n",
    "    print(f\"Item '{item}' inserted at index {index}.\")\n",
    "def remove_list(lst, item):\n",
    "    if item in lst:\n",
    "        lst.remove(item)\n",
    "        print(f\"Item '{item}' removed from the list.\")\n",
    "    else:\n",
    "        print(f\"Item '{item}' not found in the list.\")\n",
    "def sort_list(lst):\n",
    "    lst.sort()\n",
    "    print(\"List sorted.\")\n",
    "def extend_list(lst, new_items):\n",
    "    lst.extend(new_items)\n",
    "    print(\"List extended with new items.\")\n",
    "def reverse_list(lst):\n",
    "    lst.reverse()\n",
    "    print(\"List reversed.\")\n",
    "def traverse_list(lst):\n",
    "    print(\"List elements:\")\n",
    "    for item in lst:\n",
    "        print(item)\n",
    "        \n",
    "def main():\n",
    "    my_list = []\n",
    "    \n",
    "    while True:\n",
    "        print(\"\\nMenu:\")\n",
    "        print(\"1. Insert item into the list\")\n",
    "        print(\"2. Remove item from the list\")\n",
    "        print(\"3. Sort the list\")\n",
    "        print(\"4. Extend the list\")\n",
    "        print(\"5. Reverse the list\")\n",
    "        print(\"6. Traverse the list\")\n",
    "        print(\"7. Exit\")\n",
    "        choice = input(\"Enter your choice (1-7): \")\n",
    "        if choice == '1':\n",
    "            index = int(input(\"Enter the index to insert: \"))\n",
    "            item = input(\"Enter the item to insert: \")\n",
    "            insert_list(my_list, index, item)\n",
    "        elif choice == '2':\n",
    "            item = input(\"Enter the item to remove: \")\n",
    "            remove_list(my_list, item)\n",
    "        elif choice == '3':\n",
    "            sort_list(my_list)\n",
    "            n = sort_list()\n",
    "            print(n)\n",
    "        elif choice == '4':\n",
    "            new_items = input(\"Enter new items (comma-separated): \").split(',')\n",
    "            extend_list(my_list, new_items)\n",
    "        elif choice == '5':\n",
    "            reverse_list(my_list)\n",
    "        elif choice == '6':\n",
    "            traverse_list(my_list)\n",
    "        elif choice == '7':\n",
    "            print(\"Exiting program.\")\n",
    "            break\n",
    "        else:\n",
    "            print(\"Invalid choice. Please enter a number between 1 and 7.\")\n",
    "if __name__ == \"__main__\": main()\n",
    "\n"
   ]
  },
  {
   "cell_type": "code",
   "execution_count": 1,
   "metadata": {},
   "outputs": [
    {
     "name": "stdout",
     "output_type": "stream",
     "text": [
      "['one', 'three']\n"
     ]
    }
   ],
   "source": [
    "\n",
    "def deleted_head(lst):\n",
    "    del lst[1]\n",
    "   \n",
    "mylist = ['one', 'two', 'three'] \n",
    "\n",
    "deleted_head(mylist)\n",
    "print(mylist)\n"
   ]
  },
  {
   "cell_type": "markdown",
   "metadata": {},
   "source": [
    "### Dictionary"
   ]
  },
  {
   "cell_type": "code",
   "execution_count": 2,
   "metadata": {},
   "outputs": [
    {
     "name": "stdout",
     "output_type": "stream",
     "text": [
      "{'lucius': 1, 'emma': 2, 'kamsy': 3, 'mike': 4}\n"
     ]
    }
   ],
   "source": [
    "jjj = {\n",
    "    'lucius': 1,\n",
    "    'emma': 2,\n",
    "    'kamsy':3,\n",
    "    'mike':4\n",
    "}\n",
    "print(jjj)"
   ]
  },
  {
   "cell_type": "code",
   "execution_count": 3,
   "metadata": {},
   "outputs": [
    {
     "name": "stdout",
     "output_type": "stream",
     "text": [
      "{}\n"
     ]
    }
   ],
   "source": [
    "emp_dic = {}\n",
    "print(emp_dic)"
   ]
  },
  {
   "cell_type": "code",
   "execution_count": 4,
   "metadata": {},
   "outputs": [
    {
     "name": "stdout",
     "output_type": "stream",
     "text": [
      "{}\n"
     ]
    }
   ],
   "source": [
    "test = dict()\n",
    "print(test)"
   ]
  },
  {
   "cell_type": "code",
   "execution_count": 6,
   "metadata": {},
   "outputs": [
    {
     "name": "stdout",
     "output_type": "stream",
     "text": [
      "{'one': 1}\n"
     ]
    }
   ],
   "source": [
    "test['one'] = 1\n",
    "print(test)"
   ]
  },
  {
   "cell_type": "code",
   "execution_count": 1,
   "metadata": {},
   "outputs": [
    {
     "name": "stdout",
     "output_type": "stream",
     "text": [
      "{'one': 1, 'two': 2, 'three': 3, 'four': 4, 'five': 5, 'six': 6}\n"
     ]
    }
   ],
   "source": [
    "test = {\n",
    "   'one': 1, \n",
    "   'two': 2, \n",
    "   'three': 3, \n",
    "   'four': 4, \n",
    "   'five': 5, \n",
    "   'six': 6, \n",
    "}\n",
    "print(test)"
   ]
  },
  {
   "cell_type": "code",
   "execution_count": 2,
   "metadata": {},
   "outputs": [
    {
     "name": "stdout",
     "output_type": "stream",
     "text": [
      "dict_keys(['one', 'two', 'three', 'four', 'five', 'six'])\n"
     ]
    }
   ],
   "source": [
    "mykey = test.keys()\n",
    "print(mykey)"
   ]
  },
  {
   "cell_type": "code",
   "execution_count": 3,
   "metadata": {},
   "outputs": [
    {
     "name": "stdout",
     "output_type": "stream",
     "text": [
      "dict_values([1, 2, 3, 4, 5, 6])\n"
     ]
    }
   ],
   "source": [
    "mykey = test.values()\n",
    "print(mykey)"
   ]
  },
  {
   "cell_type": "code",
   "execution_count": 4,
   "metadata": {},
   "outputs": [
    {
     "name": "stdout",
     "output_type": "stream",
     "text": [
      "dict_items([('one', 1), ('two', 2), ('three', 3), ('four', 4), ('five', 5), ('six', 6)])\n"
     ]
    }
   ],
   "source": [
    "mykey = test.items()\n",
    "print(mykey)"
   ]
  },
  {
   "cell_type": "code",
   "execution_count": null,
   "metadata": {},
   "outputs": [],
   "source": [
    "#class work\n",
    "# write a python script to give us more detail about yourself, the data shoild \n",
    "# be store in a dictionary then display all the keys and values"
   ]
  },
  {
   "cell_type": "code",
   "execution_count": 5,
   "metadata": {},
   "outputs": [
    {
     "name": "stdout",
     "output_type": "stream",
     "text": [
      "{'name': 'carkson', 'age': 97, 'state': 'Cross River state', 'occupation': 'Software engineer', \"mother's name\": 'helen', \"father's name\": 'Agbor'}\n"
     ]
    }
   ],
   "source": [
    "Myself = {\n",
    "    \"name\": \"carkson\",\n",
    "    \"age\": 97,\n",
    "    \"state\": \"Cross River state\",\n",
    "    \"occupation\": \"Software engineer\",\n",
    "    \"mother's name\": \"helen\",\n",
    "    \"father's name\": \"Agbor\"\n",
    "}\n",
    "print(Myself)"
   ]
  },
  {
   "cell_type": "code",
   "execution_count": 6,
   "metadata": {},
   "outputs": [
    {
     "data": {
      "text/plain": [
       "dict_keys(['name', 'age', 'state', 'occupation', \"mother's name\", \"father's name\"])"
      ]
     },
     "execution_count": 6,
     "metadata": {},
     "output_type": "execute_result"
    }
   ],
   "source": [
    "Myself.keys()"
   ]
  },
  {
   "cell_type": "code",
   "execution_count": 7,
   "metadata": {},
   "outputs": [
    {
     "data": {
      "text/plain": [
       "dict_values(['carkson', 97, 'Cross River state', 'Software engineer', 'helen', 'Agbor'])"
      ]
     },
     "execution_count": 7,
     "metadata": {},
     "output_type": "execute_result"
    }
   ],
   "source": [
    "Myself.values()"
   ]
  },
  {
   "cell_type": "code",
   "execution_count": 8,
   "metadata": {},
   "outputs": [
    {
     "name": "stdout",
     "output_type": "stream",
     "text": [
      "Software engineer\n"
     ]
    }
   ],
   "source": [
    "n = Myself['occupation']\n",
    "print(n)"
   ]
  },
  {
   "cell_type": "code",
   "execution_count": 10,
   "metadata": {},
   "outputs": [
    {
     "name": "stdout",
     "output_type": "stream",
     "text": [
      "dict_items([('name', 'carkson'), ('age', 97), ('state', 'Cross River state'), ('occupation', 'Software engineer'), (\"mother's name\", 'helen'), (\"father's name\", 'Agbor')])\n",
      "6\n"
     ]
    }
   ],
   "source": [
    "m = len(Myself)\n",
    "i = Myself.items()\n",
    "print(i)\n",
    "print(m)"
   ]
  },
  {
   "cell_type": "code",
   "execution_count": 11,
   "metadata": {},
   "outputs": [
    {
     "data": {
      "text/plain": [
       "True"
      ]
     },
     "execution_count": 11,
     "metadata": {},
     "output_type": "execute_result"
    }
   ],
   "source": [
    "#keys\n",
    "\"name\" in Myself"
   ]
  },
  {
   "cell_type": "code",
   "execution_count": 14,
   "metadata": {},
   "outputs": [
    {
     "data": {
      "text/plain": [
       "True"
      ]
     },
     "execution_count": 14,
     "metadata": {},
     "output_type": "execute_result"
    }
   ],
   "source": [
    "j = Myself.values()\n",
    "\"carkson\" in j"
   ]
  },
  {
   "cell_type": "code",
   "execution_count": 18,
   "metadata": {},
   "outputs": [
    {
     "name": "stdout",
     "output_type": "stream",
     "text": [
      "carkson\n"
     ]
    }
   ],
   "source": [
    "l = Myself.get(\"name\", )\n",
    "print(l)"
   ]
  },
  {
   "cell_type": "code",
   "execution_count": 19,
   "metadata": {},
   "outputs": [
    {
     "name": "stdout",
     "output_type": "stream",
     "text": [
      "kamsy\n"
     ]
    }
   ],
   "source": [
    "l = Myself.get(\"niit\", 'kamsy')\n",
    "print(l)"
   ]
  },
  {
   "cell_type": "markdown",
   "metadata": {},
   "source": [
    "### For loop in dictionary"
   ]
  },
  {
   "cell_type": "code",
   "execution_count": 22,
   "metadata": {},
   "outputs": [
    {
     "name": "stdout",
     "output_type": "stream",
     "text": [
      "name carkson\n",
      "age 97\n",
      "state Cross River state\n",
      "occupation Software engineer\n",
      "mother's name helen\n",
      "father's name Agbor\n"
     ]
    }
   ],
   "source": [
    "for i in Myself:\n",
    "    print(i,Myself[i])"
   ]
  },
  {
   "cell_type": "code",
   "execution_count": 23,
   "metadata": {},
   "outputs": [
    {
     "ename": "KeyError",
     "evalue": "'one'",
     "output_type": "error",
     "traceback": [
      "\u001b[1;31m---------------------------------------------------------------------------\u001b[0m",
      "\u001b[1;31mKeyError\u001b[0m                                  Traceback (most recent call last)",
      "Cell \u001b[1;32mIn[23], line 2\u001b[0m\n\u001b[0;32m      1\u001b[0m empty_dic \u001b[38;5;241m=\u001b[39m {}\n\u001b[1;32m----> 2\u001b[0m \u001b[38;5;28mprint\u001b[39m(\u001b[43mempty_dic\u001b[49m\u001b[43m[\u001b[49m\u001b[38;5;124;43m\"\u001b[39;49m\u001b[38;5;124;43mone\u001b[39;49m\u001b[38;5;124;43m\"\u001b[39;49m\u001b[43m]\u001b[49m)\n",
      "\u001b[1;31mKeyError\u001b[0m: 'one'"
     ]
    }
   ],
   "source": [
    "empty_dic = {}\n",
    "print(empty_dic[\"one\"])"
   ]
  },
  {
   "cell_type": "markdown",
   "metadata": {},
   "source": [
    "### Tuples"
   ]
  },
  {
   "cell_type": "code",
   "execution_count": 1,
   "metadata": {},
   "outputs": [
    {
     "data": {
      "text/plain": [
       "tuple"
      ]
     },
     "execution_count": 1,
     "metadata": {},
     "output_type": "execute_result"
    }
   ],
   "source": [
    "a = ()\n",
    "type(a)"
   ]
  },
  {
   "cell_type": "code",
   "execution_count": 2,
   "metadata": {},
   "outputs": [
    {
     "name": "stdout",
     "output_type": "stream",
     "text": [
      "('one', 'two', 'three', 'four')\n"
     ]
    }
   ],
   "source": [
    "myTuple = ('one','two', 'three', 'four')\n",
    "print(myTuple)"
   ]
  },
  {
   "cell_type": "code",
   "execution_count": 7,
   "metadata": {},
   "outputs": [
    {
     "name": "stdout",
     "output_type": "stream",
     "text": [
      "('one', 'two', 'three', 'four', 1, 2, 3, 4)\n"
     ]
    }
   ],
   "source": [
    "myTuple = ('one','two', 'three', 'four',1,2,3,4)\n",
    "print(myTuple)"
   ]
  },
  {
   "cell_type": "code",
   "execution_count": null,
   "metadata": {},
   "outputs": [],
   "source": [
    "myTuple = ('one','two', 'three', 'four',1,2,3,4)\n",
    "print(myTuple[3:6])"
   ]
  },
  {
   "cell_type": "code",
   "execution_count": 10,
   "metadata": {},
   "outputs": [
    {
     "name": "stdout",
     "output_type": "stream",
     "text": [
      "SPAM!\n",
      "Spam\n",
      "('Spam', 'SPAM!')\n"
     ]
    }
   ],
   "source": [
    "L = ('spam', 'Spam', 'SPAM!')\n",
    "print(L[2])\n",
    "print(L[-2])\n",
    "print(L[1:])"
   ]
  },
  {
   "cell_type": "markdown",
   "metadata": {},
   "source": [
    "### regex"
   ]
  },
  {
   "cell_type": "code",
   "execution_count": 11,
   "metadata": {},
   "outputs": [
    {
     "name": "stdout",
     "output_type": "stream",
     "text": [
      "['carkson@niitfortesoft.com', 'kamsy@niitfortesoft.com']\n"
     ]
    }
   ],
   "source": [
    "import re\n",
    "statement = \"Hello from carkson@niitfortesoft.com to kamsy@niitfortesoft.com about the meeting @4pm\" \n",
    "\n",
    "emails = re.findall('\\S+@\\S+',statement)\n",
    "\n",
    "print(emails)"
   ]
  },
  {
   "cell_type": "code",
   "execution_count": null,
   "metadata": {},
   "outputs": [],
   "source": [
    "import re\n",
    "hand = open('mbox-short.txt')\n",
    "for line in hand:\n",
    "    line = line.rstrip()\n",
    "    x = re.findall('^X\\S*: ([0-9.]+)', line)\n",
    "    if len(x) > 0 :\n",
    "        print( x)\n"
   ]
  },
  {
   "cell_type": "markdown",
   "metadata": {},
   "source": [
    "Problem Statement\n",
    "\n",
    "Write a program to simulate the operation of the grep command in Unix. Ask the user to enter a regular expression and count the number of lines that matched the regular expression.\n",
    "\n",
    "Here is a sample execution of the program:\n",
    "Enter a regular expression: ˆAuthor\n",
    "mbox.txt had 1798 lines that matched ˆAuthor\n",
    "Enter a regular expression: ˆX\n",
    "mbox.txt had 14368 lines that matched ˆX\n",
    "Enter a regular expression: java$\n",
    "mbox.txt had 4218 lines that matched java$\n",
    "\n",
    "Prerequisite: For this activity please refer “mbox.txt” available inside “Data_File_For_Students” folder.\n"
   ]
  },
  {
   "cell_type": "code",
   "execution_count": 4,
   "metadata": {},
   "outputs": [
    {
     "name": "stdout",
     "output_type": "stream",
     "text": [
      "mbox-short.txt had 4218 lines that matched java$\n"
     ]
    }
   ],
   "source": [
    "#Solution\n",
    "import re\n",
    "\n",
    "hand = open(\"mbox-short.txt\")\n",
    "search = input(\"Enter a regular expression: \")\n",
    "count = 0 \n",
    "for line in hand:\n",
    "    line = line.rstrip()\n",
    "    if re.search(search,line) : \n",
    "        count = count + 1\n",
    "\n",
    "print(\"mbox-short.txt had \"+str(count)+\" lines that matched \"+search)"
   ]
  },
  {
   "cell_type": "markdown",
   "metadata": {},
   "source": [
    "### Socket"
   ]
  },
  {
   "cell_type": "code",
   "execution_count": null,
   "metadata": {},
   "outputs": [],
   "source": [
    "import socket\n",
    "\n",
    "mysock = socket.socket(socket.AF_INET, socket.SOCK_STREAM)\n",
    "mysock.connect(('www.py4inf.com', 80))\n",
    "mysock.send(b'GET http://www.py4inf.com/code/romeo.txt HTTP/1.0\\n\\n')\n",
    "\n",
    "while True:\n",
    "    data = mysock.recv(512)\n",
    "    if len(data) < 1:\n",
    "        break\n",
    "    print(data.decode(), end='')\n",
    "\n",
    "mysock.close()\n"
   ]
  },
  {
   "cell_type": "code",
   "execution_count": 7,
   "metadata": {},
   "outputs": [
    {
     "name": "stdout",
     "output_type": "stream",
     "text": [
      "Header length: -1\n",
      "Image downloaded and saved as stuff.jpg\n"
     ]
    }
   ],
   "source": [
    "import requests\n",
    "\n",
    "url = 'http://www.py4inf.com/code/romeo.txt'\n",
    "\n",
    "response = requests.get(url)\n",
    "\n",
    "# Check if the request was successful (status code 200)\n",
    "if response.status_code == 200:\n",
    "    picture = response.content\n",
    "\n",
    "    # Look for the end of the header (2 CRLF)\n",
    "    pos = picture.find(b\"\\r\\n\\r\\n\")\n",
    "    print('Header length:', pos)\n",
    "\n",
    "    picture = picture[pos + 4:]\n",
    "\n",
    "    with open(\"stuff.jpg\", \"wb\") as fhand:\n",
    "        fhand.write(picture)\n",
    "\n",
    "    print(\"Image downloaded and saved as stuff.jpg\")\n",
    "else:\n",
    "    print(f\"Failed to retrieve the image. Status code: {response.status_code}\")"
   ]
  },
  {
   "cell_type": "code",
   "execution_count": null,
   "metadata": {},
   "outputs": [],
   "source": [
    "\n",
    "import requests\n",
    "\n",
    "url = 'http://www.py4inf.com/code/romeo.txt'\n",
    "\n",
    "response = requests.get(url)\n",
    "\n",
    "# Check if the request was successful (status code 200)\n",
    "if response.status_code == 200:\n",
    "    picture = response.content\n",
    "\n",
    "    # Look for the end of the header (2 CRLF)\n",
    "    pos = picture.find(b\"\\r\\n\\r\\n\")\n",
    "    print('Header length:', pos)\n",
    "\n",
    "    picture = picture[pos + 4:]\n",
    "\n",
    "    with open(\"stuff.jpg\", \"wb\") as fhand:\n",
    "        fhand.write(picture)\n",
    "\n",
    "    print(\"Image downloaded and saved as stuff.jpg\")\n",
    "else:\n",
    "    print(f\"Failed to retrieve the image. Status code: {response.status_code}\")"
   ]
  },
  {
   "cell_type": "markdown",
   "metadata": {},
   "source": [
    "### Retrieving Web Pages with “urllib”"
   ]
  },
  {
   "cell_type": "code",
   "execution_count": null,
   "metadata": {},
   "outputs": [],
   "source": [
    "import urllib.request\n",
    "\n",
    "url = \"http://www.py4inf.com/code/romeo.txt\"\n",
    "response = urllib.request.urlopen(url)\n",
    "\n",
    "for line in response:\n",
    "    print(line.decode().strip())\n"
   ]
  },
  {
   "cell_type": "markdown",
   "metadata": {},
   "source": [
    "Problem Statement: \n",
    "\n",
    "Write a socket program so that it counts the number of characters it has received and stops displaying any text after it has shown 3000 characters. The program should retrieve the entire document and count the total number of characters and display the count of the number of characters at the end of the document.\n",
    "\n",
    "Prerequisite: Internet connection must be available to run this activity."
   ]
  },
  {
   "cell_type": "code",
   "execution_count": null,
   "metadata": {},
   "outputs": [],
   "source": [
    "#Solution\n",
    "\n",
    "import socket\n",
    "\n",
    "url = input(\"Enter any URL (e.g., http://www.niitstudent.com/india/studentweb/index.aspx): \")\n",
    "words = url.split('/')\n",
    "host = words[2]\n",
    "\n",
    "mysock = socket.socket(socket.AF_INET, socket.SOCK_STREAM)\n",
    "mysock.connect((host, 80))\n",
    "\n",
    "request = f\"GET {url} HTTP/1.0\\r\\nHost: {host}\\r\\n\\r\\n\"\n",
    "mysock.send(request.encode())\n",
    "\n",
    "myList = []\n",
    "while True:\n",
    "    data = mysock.recv(512)\n",
    "    if not data:\n",
    "        break\n",
    "    myList.append(data.decode())\n",
    "\n",
    "mysock.close()\n",
    "\n",
    "response = ''.join(myList)\n",
    "print(response[:3000])\n",
    "print(len(response))"
   ]
  }
 ],
 "metadata": {
  "kernelspec": {
   "display_name": "Python 3",
   "language": "python",
   "name": "python3"
  },
  "language_info": {
   "codemirror_mode": {
    "name": "ipython",
    "version": 3
   },
   "file_extension": ".py",
   "mimetype": "text/x-python",
   "name": "python",
   "nbconvert_exporter": "python",
   "pygments_lexer": "ipython3",
   "version": "3.11.5"
  }
 },
 "nbformat": 4,
 "nbformat_minor": 2
}
